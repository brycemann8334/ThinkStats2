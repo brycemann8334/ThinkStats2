{
 "cells": [
  {
   "cell_type": "markdown",
   "metadata": {},
   "source": [
    "# Homework 1\n",
    "\n",
    "Load and validate GSS data\n",
    "\n",
    "Allen Downey\n",
    "\n",
    "[MIT License](https://en.wikipedia.org/wiki/MIT_License)"
   ]
  },
  {
   "cell_type": "code",
   "execution_count": 1,
   "metadata": {},
   "outputs": [],
   "source": [
    "%matplotlib inline\n",
    "\n",
    "import pandas as pd\n",
    "import numpy as np\n",
    "\n",
    "import matplotlib.pyplot as plt\n",
    "import seaborn as sns\n",
    "sns.set(style='white')\n",
    "\n",
    "import utils\n",
    "from utils import decorate\n",
    "from thinkstats2 import Pmf, Cdf"
   ]
  },
  {
   "cell_type": "markdown",
   "metadata": {},
   "source": [
    "## Loading and validation\n"
   ]
  },
  {
   "cell_type": "code",
   "execution_count": 19,
   "metadata": {},
   "outputs": [
    {
     "data": {
      "text/plain": [
       "1"
      ]
     },
     "execution_count": 19,
     "metadata": {},
     "output_type": "execute_result"
    }
   ],
   "source": [
    "a = [-2, -1, 0, 0, 1, 1, 1, 2, 3, 3]\n",
    "cdf = Cdf(a)\n",
    "cdf.Value(.41)"
   ]
  },
  {
   "cell_type": "code",
   "execution_count": 119,
   "metadata": {},
   "outputs": [],
   "source": [
    "def read_gss(dirname):\n",
    "    \"\"\"Reads GSS files from the given directory.\n",
    "    \n",
    "    dirname: string\n",
    "    \n",
    "    returns: DataFrame\n",
    "    \"\"\"\n",
    "    dct = utils.read_stata_dict(dirname + '/GSS.dct')\n",
    "    gss = dct.read_fixed_width(dirname + '/GSS.dat.gz',\n",
    "                             compression='gzip')\n",
    "    return gss"
   ]
  },
  {
   "cell_type": "markdown",
   "metadata": {},
   "source": [
    "Read the variables I selected from the GSS dataset.  You can look up these variables at https://gssdataexplorer.norc.org/variables/vfilter"
   ]
  },
  {
   "cell_type": "code",
   "execution_count": 3,
   "metadata": {},
   "outputs": [
    {
     "name": "stdout",
     "output_type": "stream",
     "text": [
      "(62466, 101)\n"
     ]
    },
    {
     "data": {
      "text/html": [
       "<div>\n",
       "<style>\n",
       "    .dataframe thead tr:only-child th {\n",
       "        text-align: right;\n",
       "    }\n",
       "\n",
       "    .dataframe thead th {\n",
       "        text-align: left;\n",
       "    }\n",
       "\n",
       "    .dataframe tbody tr th {\n",
       "        vertical-align: top;\n",
       "    }\n",
       "</style>\n",
       "<table border=\"1\" class=\"dataframe\">\n",
       "  <thead>\n",
       "    <tr style=\"text-align: right;\">\n",
       "      <th></th>\n",
       "      <th>year</th>\n",
       "      <th>id_</th>\n",
       "      <th>agewed</th>\n",
       "      <th>divorce</th>\n",
       "      <th>sibs</th>\n",
       "      <th>childs</th>\n",
       "      <th>age</th>\n",
       "      <th>educ</th>\n",
       "      <th>paeduc</th>\n",
       "      <th>maeduc</th>\n",
       "      <th>...</th>\n",
       "      <th>memchurh</th>\n",
       "      <th>realinc</th>\n",
       "      <th>cohort</th>\n",
       "      <th>marcohrt</th>\n",
       "      <th>ballot</th>\n",
       "      <th>wtssall</th>\n",
       "      <th>adults</th>\n",
       "      <th>compuse</th>\n",
       "      <th>databank</th>\n",
       "      <th>wtssnr</th>\n",
       "    </tr>\n",
       "  </thead>\n",
       "  <tbody>\n",
       "    <tr>\n",
       "      <th>0</th>\n",
       "      <td>1972</td>\n",
       "      <td>1</td>\n",
       "      <td>0</td>\n",
       "      <td>0</td>\n",
       "      <td>3</td>\n",
       "      <td>0</td>\n",
       "      <td>23</td>\n",
       "      <td>16</td>\n",
       "      <td>10</td>\n",
       "      <td>97</td>\n",
       "      <td>...</td>\n",
       "      <td>0</td>\n",
       "      <td>18951.0</td>\n",
       "      <td>1949</td>\n",
       "      <td>0</td>\n",
       "      <td>0</td>\n",
       "      <td>0.4446</td>\n",
       "      <td>1</td>\n",
       "      <td>0</td>\n",
       "      <td>0</td>\n",
       "      <td>1.0</td>\n",
       "    </tr>\n",
       "    <tr>\n",
       "      <th>1</th>\n",
       "      <td>1972</td>\n",
       "      <td>2</td>\n",
       "      <td>21</td>\n",
       "      <td>2</td>\n",
       "      <td>4</td>\n",
       "      <td>5</td>\n",
       "      <td>70</td>\n",
       "      <td>10</td>\n",
       "      <td>8</td>\n",
       "      <td>8</td>\n",
       "      <td>...</td>\n",
       "      <td>0</td>\n",
       "      <td>24366.0</td>\n",
       "      <td>1902</td>\n",
       "      <td>1923</td>\n",
       "      <td>0</td>\n",
       "      <td>0.8893</td>\n",
       "      <td>2</td>\n",
       "      <td>0</td>\n",
       "      <td>0</td>\n",
       "      <td>1.0</td>\n",
       "    </tr>\n",
       "    <tr>\n",
       "      <th>2</th>\n",
       "      <td>1972</td>\n",
       "      <td>3</td>\n",
       "      <td>20</td>\n",
       "      <td>2</td>\n",
       "      <td>5</td>\n",
       "      <td>4</td>\n",
       "      <td>48</td>\n",
       "      <td>12</td>\n",
       "      <td>8</td>\n",
       "      <td>8</td>\n",
       "      <td>...</td>\n",
       "      <td>0</td>\n",
       "      <td>24366.0</td>\n",
       "      <td>1924</td>\n",
       "      <td>1944</td>\n",
       "      <td>0</td>\n",
       "      <td>0.8893</td>\n",
       "      <td>2</td>\n",
       "      <td>0</td>\n",
       "      <td>0</td>\n",
       "      <td>1.0</td>\n",
       "    </tr>\n",
       "    <tr>\n",
       "      <th>3</th>\n",
       "      <td>1972</td>\n",
       "      <td>4</td>\n",
       "      <td>24</td>\n",
       "      <td>2</td>\n",
       "      <td>5</td>\n",
       "      <td>0</td>\n",
       "      <td>27</td>\n",
       "      <td>17</td>\n",
       "      <td>16</td>\n",
       "      <td>12</td>\n",
       "      <td>...</td>\n",
       "      <td>0</td>\n",
       "      <td>30458.0</td>\n",
       "      <td>1945</td>\n",
       "      <td>1969</td>\n",
       "      <td>0</td>\n",
       "      <td>0.8893</td>\n",
       "      <td>2</td>\n",
       "      <td>0</td>\n",
       "      <td>0</td>\n",
       "      <td>1.0</td>\n",
       "    </tr>\n",
       "    <tr>\n",
       "      <th>4</th>\n",
       "      <td>1972</td>\n",
       "      <td>5</td>\n",
       "      <td>22</td>\n",
       "      <td>2</td>\n",
       "      <td>2</td>\n",
       "      <td>2</td>\n",
       "      <td>61</td>\n",
       "      <td>12</td>\n",
       "      <td>8</td>\n",
       "      <td>8</td>\n",
       "      <td>...</td>\n",
       "      <td>0</td>\n",
       "      <td>50763.0</td>\n",
       "      <td>1911</td>\n",
       "      <td>1933</td>\n",
       "      <td>0</td>\n",
       "      <td>0.8893</td>\n",
       "      <td>2</td>\n",
       "      <td>0</td>\n",
       "      <td>0</td>\n",
       "      <td>1.0</td>\n",
       "    </tr>\n",
       "  </tbody>\n",
       "</table>\n",
       "<p>5 rows × 101 columns</p>\n",
       "</div>"
      ],
      "text/plain": [
       "   year  id_  agewed  divorce  sibs  childs  age  educ  paeduc  maeduc  \\\n",
       "0  1972    1       0        0     3       0   23    16      10      97   \n",
       "1  1972    2      21        2     4       5   70    10       8       8   \n",
       "2  1972    3      20        2     5       4   48    12       8       8   \n",
       "3  1972    4      24        2     5       0   27    17      16      12   \n",
       "4  1972    5      22        2     2       2   61    12       8       8   \n",
       "\n",
       "    ...    memchurh  realinc  cohort  marcohrt  ballot  wtssall  adults  \\\n",
       "0   ...           0  18951.0    1949         0       0   0.4446       1   \n",
       "1   ...           0  24366.0    1902      1923       0   0.8893       2   \n",
       "2   ...           0  24366.0    1924      1944       0   0.8893       2   \n",
       "3   ...           0  30458.0    1945      1969       0   0.8893       2   \n",
       "4   ...           0  50763.0    1911      1933       0   0.8893       2   \n",
       "\n",
       "   compuse  databank  wtssnr  \n",
       "0        0         0     1.0  \n",
       "1        0         0     1.0  \n",
       "2        0         0     1.0  \n",
       "3        0         0     1.0  \n",
       "4        0         0     1.0  \n",
       "\n",
       "[5 rows x 101 columns]"
      ]
     },
     "execution_count": 3,
     "metadata": {},
     "output_type": "execute_result"
    }
   ],
   "source": [
    "gss = read_gss('gss_eda')\n",
    "print(gss.shape)\n",
    "gss.head()"
   ]
  },
  {
   "cell_type": "markdown",
   "metadata": {},
   "source": [
    "Most variables use special codes to indicate missing data.  We have to be careful not to use these codes as numerical data; one way to manage that is to replace them with `NaN`, which Pandas recognizes as a missing value."
   ]
  },
  {
   "cell_type": "code",
   "execution_count": 4,
   "metadata": {},
   "outputs": [],
   "source": [
    "def replace_invalid(df):\n",
    "    df.realinc.replace([0], np.nan, inplace=True)                  \n",
    "    df.educ.replace([98,99], np.nan, inplace=True)\n",
    "    # 89 means 89 or older\n",
    "    df.age.replace([98, 99], np.nan, inplace=True) \n",
    "    df.cohort.replace([9999], np.nan, inplace=True)\n",
    "    df.adults.replace([9], np.nan, inplace=True)\n",
    "\n",
    "replace_invalid(gss)"
   ]
  },
  {
   "cell_type": "markdown",
   "metadata": {},
   "source": [
    "Here are summary statistics for the variables I have validated and cleaned."
   ]
  },
  {
   "cell_type": "code",
   "execution_count": 5,
   "metadata": {},
   "outputs": [
    {
     "data": {
      "text/plain": [
       "count    62466.000000\n",
       "mean      1994.072359\n",
       "std         12.937941\n",
       "min       1972.000000\n",
       "25%       1984.000000\n",
       "50%       1994.000000\n",
       "75%       2006.000000\n",
       "max       2016.000000\n",
       "Name: year, dtype: float64"
      ]
     },
     "execution_count": 5,
     "metadata": {},
     "output_type": "execute_result"
    }
   ],
   "source": [
    "gss['year'].describe()"
   ]
  },
  {
   "cell_type": "code",
   "execution_count": 6,
   "metadata": {},
   "outputs": [
    {
     "data": {
      "text/plain": [
       "count    62466.000000\n",
       "mean         1.558768\n",
       "std          0.496538\n",
       "min          1.000000\n",
       "25%          1.000000\n",
       "50%          2.000000\n",
       "75%          2.000000\n",
       "max          2.000000\n",
       "Name: sex, dtype: float64"
      ]
     },
     "execution_count": 6,
     "metadata": {},
     "output_type": "execute_result"
    }
   ],
   "source": [
    "gss['sex'].describe()"
   ]
  },
  {
   "cell_type": "code",
   "execution_count": 7,
   "metadata": {},
   "outputs": [
    {
     "data": {
      "text/plain": [
       "count    62245.000000\n",
       "mean        45.991341\n",
       "std         17.505563\n",
       "min         18.000000\n",
       "25%         31.000000\n",
       "50%         44.000000\n",
       "75%         59.000000\n",
       "max         89.000000\n",
       "Name: age, dtype: float64"
      ]
     },
     "execution_count": 7,
     "metadata": {},
     "output_type": "execute_result"
    }
   ],
   "source": [
    "gss['age'].describe()"
   ]
  },
  {
   "cell_type": "code",
   "execution_count": 8,
   "metadata": {},
   "outputs": [
    {
     "data": {
      "text/plain": [
       "count    62245.000000\n",
       "mean      1948.087075\n",
       "std         20.998696\n",
       "min       1883.000000\n",
       "25%       1934.000000\n",
       "50%       1950.000000\n",
       "75%       1963.000000\n",
       "max       1998.000000\n",
       "Name: cohort, dtype: float64"
      ]
     },
     "execution_count": 8,
     "metadata": {},
     "output_type": "execute_result"
    }
   ],
   "source": [
    "gss['cohort'].describe()"
   ]
  },
  {
   "cell_type": "code",
   "execution_count": 9,
   "metadata": {},
   "outputs": [
    {
     "data": {
      "text/plain": [
       "count    62466.000000\n",
       "mean         1.247335\n",
       "std          0.540917\n",
       "min          1.000000\n",
       "25%          1.000000\n",
       "50%          1.000000\n",
       "75%          1.000000\n",
       "max          3.000000\n",
       "Name: race, dtype: float64"
      ]
     },
     "execution_count": 9,
     "metadata": {},
     "output_type": "execute_result"
    }
   ],
   "source": [
    "gss['race'].describe()"
   ]
  },
  {
   "cell_type": "code",
   "execution_count": 10,
   "metadata": {},
   "outputs": [
    {
     "data": {
      "text/plain": [
       "count    62292.000000\n",
       "mean        12.837234\n",
       "std          3.179130\n",
       "min          0.000000\n",
       "25%         12.000000\n",
       "50%         12.000000\n",
       "75%         15.000000\n",
       "max         20.000000\n",
       "Name: educ, dtype: float64"
      ]
     },
     "execution_count": 10,
     "metadata": {},
     "output_type": "execute_result"
    }
   ],
   "source": [
    "gss['educ'].describe()"
   ]
  },
  {
   "cell_type": "code",
   "execution_count": 11,
   "metadata": {},
   "outputs": [
    {
     "data": {
      "text/plain": [
       "count     56141.000000\n",
       "mean      31636.199666\n",
       "std       29402.370825\n",
       "min         234.000000\n",
       "25%       12080.625000\n",
       "50%       24097.500000\n",
       "75%       39022.500000\n",
       "max      162607.000000\n",
       "Name: realinc, dtype: float64"
      ]
     },
     "execution_count": 11,
     "metadata": {},
     "output_type": "execute_result"
    }
   ],
   "source": [
    "gss['realinc'].describe()"
   ]
  },
  {
   "cell_type": "code",
   "execution_count": 12,
   "metadata": {},
   "outputs": [
    {
     "data": {
      "text/plain": [
       "count    62466.000000\n",
       "mean         1.000016\n",
       "std          0.461927\n",
       "min          0.391825\n",
       "25%          0.550100\n",
       "50%          0.988100\n",
       "75%          1.098500\n",
       "max          8.739876\n",
       "Name: wtssall, dtype: float64"
      ]
     },
     "execution_count": 12,
     "metadata": {},
     "output_type": "execute_result"
    }
   ],
   "source": [
    "gss['wtssall'].describe()"
   ]
  },
  {
   "cell_type": "markdown",
   "metadata": {},
   "source": [
    "**Exercise** \n",
    "\n",
    "1. Look through the column headings to find a few variables that look interesting.  Look them up on the GSS data explorer.  \n",
    "\n",
    "2. Use `value_counts` to see what values appear in the dataset, and compare the results with the counts in the code book.  \n",
    "\n",
    "3. Identify special values that indicate missing data and replace them with `NaN`.\n",
    "\n",
    "4. Use `describe` to compute summary statistics.  What do you notice?"
   ]
  },
  {
   "cell_type": "code",
   "execution_count": 24,
   "metadata": {},
   "outputs": [
    {
     "name": "stdout",
     "output_type": "stream",
     "text": [
      "12.0       4\n",
      "13.0      38\n",
      "14.0     106\n",
      "15.0     272\n",
      "16.0     843\n",
      "17.0    1453\n",
      "18.0    2767\n",
      "19.0    2886\n",
      "20.0    2719\n",
      "21.0    3324\n",
      "22.0    2291\n",
      "23.0    1980\n",
      "24.0    1633\n",
      "25.0    1477\n",
      "26.0     978\n",
      "27.0     867\n",
      "28.0     603\n",
      "29.0     452\n",
      "30.0     454\n",
      "31.0     230\n",
      "32.0     238\n",
      "33.0     160\n",
      "34.0     119\n",
      "35.0     135\n",
      "36.0      72\n",
      "37.0      58\n",
      "38.0      62\n",
      "39.0      56\n",
      "40.0      62\n",
      "41.0      18\n",
      "42.0      35\n",
      "43.0      22\n",
      "44.0      12\n",
      "45.0      23\n",
      "46.0       9\n",
      "47.0       7\n",
      "48.0       7\n",
      "49.0       8\n",
      "50.0       8\n",
      "51.0       3\n",
      "52.0       9\n",
      "53.0       3\n",
      "54.0       6\n",
      "55.0       8\n",
      "56.0       4\n",
      "57.0       2\n",
      "58.0       5\n",
      "59.0       1\n",
      "60.0       4\n",
      "61.0       1\n",
      "62.0       1\n",
      "63.0       2\n",
      "65.0       1\n",
      "68.0       1\n",
      "70.0       1\n",
      "73.0       2\n",
      "90.0       1\n",
      "Name: agewed, dtype: int64\n",
      "\n",
      "\n",
      "count    26543.000000\n",
      "mean        22.150058\n",
      "std          4.885114\n",
      "min         12.000000\n",
      "25%         19.000000\n",
      "50%         21.000000\n",
      "75%         24.000000\n",
      "max         90.000000\n",
      "Name: agewed, dtype: float64\n"
     ]
    }
   ],
   "source": [
    "def replace_invalid2(df):\n",
    "    df.agewed.replace([98,99,0], np.nan, inplace=True)\n",
    "    df.sibs.replace([-1,98,99], np.nan, inplace=True)\n",
    "\n",
    "replace_invalid2(gss)\n",
    "\n",
    "print(gss['agewed'].value_counts().sort_index())\n",
    "print('\\n')\n",
    "print(gss['agewed'].describe())\n",
    "#seems reasonable"
   ]
  },
  {
   "cell_type": "code",
   "execution_count": 25,
   "metadata": {},
   "outputs": [
    {
     "name": "stdout",
     "output_type": "stream",
     "text": [
      "0.0      3047\n",
      "1.0     10152\n",
      "2.0     11313\n",
      "3.0      9561\n",
      "4.0      7024\n",
      "5.0      5066\n",
      "6.0      3849\n",
      "7.0      3296\n",
      "8.0      2165\n",
      "9.0      1608\n",
      "10.0     1105\n",
      "11.0      865\n",
      "12.0      577\n",
      "13.0      393\n",
      "14.0      220\n",
      "15.0      146\n",
      "16.0      108\n",
      "17.0       52\n",
      "18.0       44\n",
      "19.0       25\n",
      "20.0       31\n",
      "21.0       49\n",
      "22.0       17\n",
      "23.0       15\n",
      "24.0        5\n",
      "25.0        6\n",
      "26.0        6\n",
      "27.0        7\n",
      "28.0        1\n",
      "29.0        2\n",
      "30.0        4\n",
      "31.0        6\n",
      "32.0        2\n",
      "33.0        2\n",
      "34.0        1\n",
      "35.0        1\n",
      "37.0        1\n",
      "43.0        1\n",
      "55.0        1\n",
      "68.0        1\n",
      "Name: sibs, dtype: int64\n",
      "\n",
      "\n",
      "count    60775.000000\n",
      "mean         3.922155\n",
      "std          3.184487\n",
      "min          0.000000\n",
      "25%          2.000000\n",
      "50%          3.000000\n",
      "75%          5.000000\n",
      "max         68.000000\n",
      "Name: sibs, dtype: float64\n"
     ]
    }
   ],
   "source": [
    "print(gss['sibs'].value_counts().sort_index())\n",
    "print('\\n')\n",
    "print(gss['sibs'].describe())\n",
    "#The mean for sibs is much higher than I would expect"
   ]
  },
  {
   "cell_type": "markdown",
   "metadata": {},
   "source": [
    "## Visualize distributions\n",
    "\n",
    "Let's visualize the distributions of the variables we've selected.\n",
    "\n",
    "Here's a Hist of the values in `educ`:"
   ]
  },
  {
   "cell_type": "code",
   "execution_count": 26,
   "metadata": {},
   "outputs": [
    {
     "data": {
      "image/png": "[encoded data removed]",
      "text/plain": [
       "<Figure size 432x288 with 1 Axes>"
      ]
     },
     "metadata": {
      "needs_background": "light"
     },
     "output_type": "display_data"
    }
   ],
   "source": [
    "from thinkstats2 import Hist, Pmf, Cdf\n",
    "import thinkplot\n",
    "\n",
    "hist_educ = Hist(gss.educ)\n",
    "thinkplot.hist(hist_educ)\n",
    "decorate(xlabel='Years of education', \n",
    "         ylabel='Count')"
   ]
  },
  {
   "cell_type": "markdown",
   "metadata": {},
   "source": [
    "`Hist` as defined in `thinkstats2` is different from `hist` as defined in Matplotlib.  The difference is that `Hist` keeps all unique values and does not put them in bins.  Also, `hist` does not handle `NaN`.\n",
    "\n",
    "One of the hazards of using `hist` is that the shape of the result depends on the bin size.\n",
    "\n",
    "**Exercise:** \n",
    "\n",
    "1. Run the following cell and compare the result to the `Hist` above.\n",
    "\n",
    "2. Add the keyword argument `bins=11` to `plt.hist` and see how it changes the results.\n",
    "\n",
    "3. Experiment with other numbers of bins."
   ]
  },
  {
   "cell_type": "code",
   "execution_count": 27,
   "metadata": {},
   "outputs": [
    {
     "data": {
      "image/png": "[encoded data removed]",
      "text/plain": [
       "<Figure size 432x288 with 1 Axes>"
      ]
     },
     "metadata": {
      "needs_background": "light"
     },
     "output_type": "display_data"
    }
   ],
   "source": [
    "import matplotlib.pyplot as plt\n",
    "\n",
    "plt.hist(gss.educ.dropna())\n",
    "decorate(xlabel='Years of education', \n",
    "         ylabel='Count')"
   ]
  },
  {
   "cell_type": "code",
   "execution_count": 32,
   "metadata": {},
   "outputs": [
    {
     "data": {
      "image/png": "[encoded data removed]",
      "text/plain": [
       "<Figure size 432x288 with 1 Axes>"
      ]
     },
     "metadata": {
      "needs_background": "light"
     },
     "output_type": "display_data"
    }
   ],
   "source": [
    "plt.hist(gss.educ.dropna(), bins=11)\n",
    "decorate(xlabel='Years of education', \n",
    "         ylabel='Count')"
   ]
  },
  {
   "cell_type": "code",
   "execution_count": 33,
   "metadata": {},
   "outputs": [
    {
     "data": {
      "image/png": "[encoded data removed]",
      "text/plain": [
       "<Figure size 432x288 with 1 Axes>"
      ]
     },
     "metadata": {
      "needs_background": "light"
     },
     "output_type": "display_data"
    }
   ],
   "source": [
    "plt.hist(gss.educ.dropna(), bins=5)\n",
    "decorate(xlabel='Years of education', \n",
    "         ylabel='Count')"
   ]
  },
  {
   "cell_type": "markdown",
   "metadata": {},
   "source": [
    "However, a drawback of `Hist` and `Pmf` is that they basically don't work when the number of unique values is large, as in this example:"
   ]
  },
  {
   "cell_type": "code",
   "execution_count": 34,
   "metadata": {},
   "outputs": [
    {
     "data": {
      "image/png": "[encoded data removed]",
      "text/plain": [
       "<Figure size 432x288 with 1 Axes>"
      ]
     },
     "metadata": {
      "needs_background": "light"
     },
     "output_type": "display_data"
    }
   ],
   "source": [
    "hist_realinc = Hist(gss.realinc)\n",
    "thinkplot.hist(hist_realinc)\n",
    "decorate(xlabel='Real income (1986 USD)', \n",
    "         ylabel='Count')"
   ]
  },
  {
   "cell_type": "markdown",
   "metadata": {},
   "source": [
    "**Exercise:**\n",
    "    \n",
    "1. Make and plot a `Hist` of `age`.\n",
    "\n",
    "2. Make and plot a `Pmf` of `educ`.\n",
    "\n",
    "3. What fraction of people have 12, 14, and 16 years of education?"
   ]
  },
  {
   "cell_type": "code",
   "execution_count": 36,
   "metadata": {},
   "outputs": [
    {
     "data": {
      "image/png": "[encoded data removed]",
      "text/plain": [
       "<Figure size 432x288 with 1 Axes>"
      ]
     },
     "metadata": {
      "needs_background": "light"
     },
     "output_type": "display_data"
    }
   ],
   "source": [
    "# Solution goes here\n",
    "hist_age = Hist(gss.age)\n",
    "thinkplot.hist(hist_age)\n",
    "decorate(xlabel='Age (years)', \n",
    "         ylabel='Count')"
   ]
  },
  {
   "cell_type": "code",
   "execution_count": 39,
   "metadata": {},
   "outputs": [
    {
     "data": {
      "image/png": "[encoded data removed]",
      "text/plain": [
       "<Figure size 432x288 with 1 Axes>"
      ]
     },
     "metadata": {
      "needs_background": "light"
     },
     "output_type": "display_data"
    }
   ],
   "source": [
    "# Solution goes here\n",
    "pmf_educ = Pmf(gss.educ)\n",
    "thinkplot.pmf(pmf_educ)\n",
    "decorate(xlabel='education (years completed)',\n",
    "         ylabel='probability')"
   ]
  },
  {
   "cell_type": "code",
   "execution_count": 44,
   "metadata": {},
   "outputs": [
    {
     "name": "stdout",
     "output_type": "stream",
     "text": [
      "0.5422526167084055\n"
     ]
    }
   ],
   "source": [
    "# Solution goes here\n",
    "sol = pmf_educ[12] + pmf_educ[14] + pmf_educ[16]\n",
    "print(sol)"
   ]
  },
  {
   "cell_type": "markdown",
   "metadata": {},
   "source": [
    "**Exercise:**\n",
    "    \n",
    "1. Make and plot a `Cdf` of `educ`.\n",
    "\n",
    "2. What fraction of people have more than 12 years of education?"
   ]
  },
  {
   "cell_type": "code",
   "execution_count": 48,
   "metadata": {},
   "outputs": [
    {
     "data": {
      "image/png": "[encoded data removed]",
      "text/plain": [
       "<Figure size 432x288 with 1 Axes>"
      ]
     },
     "metadata": {
      "needs_background": "light"
     },
     "output_type": "display_data"
    }
   ],
   "source": [
    "# Solution goes here\n",
    "cdf_educ = Cdf(gss.educ)\n",
    "thinkplot.Cdf(cdf_educ)\n",
    "decorate(xlabel='years of education',\n",
    "         ylabel='percentile')"
   ]
  },
  {
   "cell_type": "code",
   "execution_count": 53,
   "metadata": {},
   "outputs": [
    {
     "data": {
      "text/plain": [
       "0.46729917164322865"
      ]
     },
     "execution_count": 53,
     "metadata": {},
     "output_type": "execute_result"
    }
   ],
   "source": [
    "# Solution goes here\n",
    "1-cdf_educ.Prob(12)"
   ]
  },
  {
   "cell_type": "markdown",
   "metadata": {},
   "source": [
    "**Exercise:**\n",
    "    \n",
    "1. Make and plot a `Cdf` of `age`.\n",
    "\n",
    "2. What is the median age?  What is the inter-quartile range (IQR)?"
   ]
  },
  {
   "cell_type": "code",
   "execution_count": 54,
   "metadata": {},
   "outputs": [
    {
     "data": {
      "image/png": "[encoded data removed]",
      "text/plain": [
       "<Figure size 432x288 with 1 Axes>"
      ]
     },
     "metadata": {
      "needs_background": "light"
     },
     "output_type": "display_data"
    }
   ],
   "source": [
    "# Solution goes here\n",
    "cdf_age = Cdf(gss.age)\n",
    "thinkplot.Cdf(cdf_age)\n",
    "decorate(xlabel='age (years)',\n",
    "         ylabel='percentile')"
   ]
  },
  {
   "cell_type": "code",
   "execution_count": 59,
   "metadata": {},
   "outputs": [
    {
     "data": {
      "text/plain": [
       "44.0"
      ]
     },
     "execution_count": 59,
     "metadata": {},
     "output_type": "execute_result"
    }
   ],
   "source": [
    "# Solution goes here\n",
    "#median\n",
    "cdf_age.Percentile(50)"
   ]
  },
  {
   "cell_type": "code",
   "execution_count": 57,
   "metadata": {},
   "outputs": [
    {
     "name": "stdout",
     "output_type": "stream",
     "text": [
      "31.0 -> 59.0\n"
     ]
    }
   ],
   "source": [
    "# Solution goes here\n",
    "#IQR\n",
    "print(str(cdf_age.Percentile(25)) + ' -> ' + str(cdf_age.Percentile(75)))"
   ]
  },
  {
   "cell_type": "markdown",
   "metadata": {},
   "source": [
    "**Exercise:**\n",
    "\n",
    "Find another numerical variable, plot a histogram, PMF, and CDF, and compute any statistics of interest."
   ]
  },
  {
   "cell_type": "code",
   "execution_count": 82,
   "metadata": {},
   "outputs": [],
   "source": [
    "# Solution goes here\n",
    "def replace_invalid3(df):\n",
    "    df.adults.replace([9], np.nan, inplace=True)\n",
    "\n",
    "replace_invalid3(gss)\n",
    "\n",
    "hist_ad = Hist(gss.adults)\n",
    "pmf_ad = Pmf(gss.adults)\n",
    "cdf_ad = Cdf(gss.adults)"
   ]
  },
  {
   "cell_type": "code",
   "execution_count": 84,
   "metadata": {},
   "outputs": [
    {
     "data": {
      "image/png": "[encoded data removed]",
      "text/plain": [
       "<Figure size 432x288 with 1 Axes>"
      ]
     },
     "metadata": {
      "needs_background": "light"
     },
     "output_type": "display_data"
    }
   ],
   "source": [
    "# Solution goes here\n",
    "thinkplot.Hist(hist_ad)\n",
    "decorate(xlabel='adults in household',ylabel='count')"
   ]
  },
  {
   "cell_type": "code",
   "execution_count": 87,
   "metadata": {},
   "outputs": [
    {
     "data": {
      "image/png": "[encoded data removed]",
      "text/plain": [
       "<Figure size 432x288 with 1 Axes>"
      ]
     },
     "metadata": {
      "needs_background": "light"
     },
     "output_type": "display_data"
    }
   ],
   "source": [
    "# Solution goes here\n",
    "thinkplot.Pmf(pmf_ad)\n",
    "decorate(xlabel='adults in household',ylabel='probability')"
   ]
  },
  {
   "cell_type": "code",
   "execution_count": 89,
   "metadata": {},
   "outputs": [
    {
     "data": {
      "image/png": "[encoded data removed]",
      "text/plain": [
       "<Figure size 432x288 with 1 Axes>"
      ]
     },
     "metadata": {
      "needs_background": "light"
     },
     "output_type": "display_data"
    }
   ],
   "source": [
    "# Solution goes here\n",
    "thinkplot.Cdf(cdf_ad)\n",
    "decorate(xlabel='adults in household',ylabel='percentile')"
   ]
  },
  {
   "cell_type": "code",
   "execution_count": 90,
   "metadata": {},
   "outputs": [
    {
     "data": {
      "text/plain": [
       "2.0"
      ]
     },
     "execution_count": 90,
     "metadata": {},
     "output_type": "execute_result"
    }
   ],
   "source": [
    "#median\n",
    "cdf_ad.Percentile(50)"
   ]
  },
  {
   "cell_type": "code",
   "execution_count": 91,
   "metadata": {},
   "outputs": [
    {
     "name": "stdout",
     "output_type": "stream",
     "text": [
      "1.0 -> 2.0\n"
     ]
    }
   ],
   "source": [
    "#IQR\n",
    "print(str(cdf_ad.Percentile(25)) + ' -> ' + str(cdf_ad.Percentile(75)))"
   ]
  },
  {
   "cell_type": "code",
   "execution_count": 92,
   "metadata": {},
   "outputs": [
    {
     "data": {
      "text/plain": [
       "count    62401.000000\n",
       "mean         1.919761\n",
       "std          0.807549\n",
       "min          1.000000\n",
       "25%          1.000000\n",
       "50%          2.000000\n",
       "75%          2.000000\n",
       "max          8.000000\n",
       "Name: adults, dtype: float64"
      ]
     },
     "execution_count": 92,
     "metadata": {},
     "output_type": "execute_result"
    }
   ],
   "source": [
    "gss.adults.describe()"
   ]
  },
  {
   "cell_type": "markdown",
   "metadata": {},
   "source": [
    "**Exercise:**\n",
    "\n",
    "1. Compute the CDF of `realinc` for male and female respondents, and plot both CDFs on the same axes.\n",
    "\n",
    "2. What is the difference in median income between the two groups?"
   ]
  },
  {
   "cell_type": "code",
   "execution_count": 80,
   "metadata": {},
   "outputs": [
    {
     "data": {
      "image/png": "[encoded data removed]",
      "text/plain": [
       "<Figure size 432x288 with 1 Axes>"
      ]
     },
     "metadata": {
      "needs_background": "light"
     },
     "output_type": "display_data"
    }
   ],
   "source": [
    "# Solution goes here\n",
    "male = gss.realinc[gss['sex'] == 1]\n",
    "female = gss.realinc[gss['sex'] == 2]\n",
    "cdf_fem = Cdf(female, label='female')\n",
    "cdf_male = Cdf(male, label='male')\n",
    "\n",
    "thinkplot.Cdfs([cdf_male,cdf_fem])\n",
    "decorate(xlabel='income', ylabel='percentile')"
   ]
  },
  {
   "cell_type": "code",
   "execution_count": 79,
   "metadata": {},
   "outputs": [
    {
     "data": {
      "text/plain": [
       "5185.0"
      ]
     },
     "execution_count": 79,
     "metadata": {},
     "output_type": "execute_result"
    }
   ],
   "source": [
    "# Solution goes here\n",
    "diff = cdf_male.Percentile(50) - cdf_fem.Percentile(50)\n",
    "diff"
   ]
  },
  {
   "cell_type": "markdown",
   "metadata": {},
   "source": [
    "**Exercise:**\n",
    "\n",
    "Use a variable to break the dataset into groups and plot multiple CDFs to compare distribution of something within groups.\n",
    "\n",
    "Note: Try to find something interesting, but be cautious about overinterpreting the results.  Between any two groups, there are often many differences, with many possible causes."
   ]
  },
  {
   "cell_type": "code",
   "execution_count": 108,
   "metadata": {},
   "outputs": [
    {
     "data": {
      "image/png": "[encoded data removed]",
      "text/plain": [
       "<Figure size 432x288 with 1 Axes>"
      ]
     },
     "metadata": {
      "needs_background": "light"
     },
     "output_type": "display_data"
    }
   ],
   "source": [
    "# Solution goes here\n",
    "def replace_invalid4(df):\n",
    "    df.divorce.replace([8,9,0], np.nan, inplace=True)\n",
    "    df.childs.replace([9], np.nan, inplace=True)\n",
    "\n",
    "replace_invalid4(gss)\n",
    "\n",
    "divorced = gss.educ[gss['divorce'] == 1]\n",
    "undivorced = gss.educ[gss['divorce'] == 2]\n",
    "cdf_div = Cdf(divorced, label='divorced')\n",
    "cdf_undiv = Cdf(undivorced, label='undivorced')\n",
    "\n",
    "thinkplot.Cdfs([cdf_div,cdf_undiv])\n",
    "decorate(xlabel='years of education', ylabel='percentile',\n",
    "         title='CDF of years of education for divorced and ' +\n",
    "         'undivorced respondents')"
   ]
  },
  {
   "cell_type": "code",
   "execution_count": 107,
   "metadata": {},
   "outputs": [
    {
     "data": {
      "image/png": "[encoded data removed]",
      "text/plain": [
       "<Figure size 432x288 with 1 Axes>"
      ]
     },
     "metadata": {
      "needs_background": "light"
     },
     "output_type": "display_data"
    }
   ],
   "source": [
    "divorced = gss.childs[gss['divorce'] == 1]\n",
    "undivorced = gss.childs[gss['divorce'] == 2]\n",
    "cdf_div = Cdf(divorced, label='divorced')\n",
    "cdf_undiv = Cdf(undivorced, label='undivorced')\n",
    "\n",
    "thinkplot.Cdfs([cdf_div,cdf_undiv])\n",
    "decorate(xlabel='number of children', ylabel='percentile',\n",
    "         title='CDF of # of children for divorced and undivorced' + \n",
    "         ' respondents')"
   ]
  },
  {
   "cell_type": "code",
   "execution_count": 99,
   "metadata": {},
   "outputs": [
    {
     "name": "stdout",
     "output_type": "stream",
     "text": [
      "year\n",
      "\n",
      "id_\n",
      "\n",
      "agewed\n",
      "\n",
      "divorce\n",
      "\n",
      "sibs\n",
      "\n",
      "childs\n",
      "\n",
      "age\n",
      "\n",
      "educ\n",
      "\n",
      "paeduc\n",
      "\n",
      "maeduc\n",
      "\n",
      "speduc\n",
      "\n",
      "degree\n",
      "\n",
      "padeg\n",
      "\n",
      "madeg\n",
      "\n",
      "spdeg\n",
      "\n",
      "sex\n",
      "\n",
      "race\n",
      "\n",
      "res16\n",
      "\n",
      "reg16\n",
      "\n",
      "srcbelt\n",
      "\n",
      "partyid\n",
      "\n",
      "pres04\n",
      "\n",
      "pres08\n",
      "\n",
      "pres12\n",
      "\n",
      "polviews\n",
      "\n",
      "natspac\n",
      "\n",
      "natenvir\n",
      "\n",
      "natheal\n",
      "\n",
      "natcity\n",
      "\n",
      "natcrime\n",
      "\n",
      "natdrug\n",
      "\n",
      "nateduc\n",
      "\n",
      "natrace\n",
      "\n",
      "natarms\n",
      "\n",
      "nataid\n",
      "\n",
      "natfare\n",
      "\n",
      "spkath\n",
      "\n",
      "colath\n",
      "\n",
      "libath\n",
      "\n",
      "spkhomo\n",
      "\n",
      "colhomo\n",
      "\n",
      "libhomo\n",
      "\n",
      "cappun\n",
      "\n",
      "gunlaw\n",
      "\n",
      "grass\n",
      "\n",
      "relig\n",
      "\n",
      "fund\n",
      "\n",
      "attend\n",
      "\n",
      "reliten\n",
      "\n",
      "postlife\n",
      "\n",
      "pray\n",
      "\n",
      "relig16\n",
      "\n",
      "fund16\n",
      "\n",
      "sprel16\n",
      "\n",
      "prayer\n",
      "\n",
      "bible\n",
      "\n",
      "racmar\n",
      "\n",
      "racpres\n",
      "\n",
      "affrmact\n",
      "\n",
      "happy\n",
      "\n",
      "hapmar\n",
      "\n",
      "health\n",
      "\n",
      "life\n",
      "\n",
      "helpful\n",
      "\n",
      "fair\n",
      "\n",
      "trust\n",
      "\n",
      "conclerg\n",
      "\n",
      "coneduc\n",
      "\n",
      "confed\n",
      "\n",
      "conpress\n",
      "\n",
      "conjudge\n",
      "\n",
      "conlegis\n",
      "\n",
      "conarmy\n",
      "\n",
      "satjob\n",
      "\n",
      "class_\n",
      "\n",
      "satfin\n",
      "\n",
      "finrela\n",
      "\n",
      "union_\n",
      "\n",
      "fepol\n",
      "\n",
      "abany\n",
      "\n",
      "chldidel\n",
      "\n",
      "sexeduc\n",
      "\n",
      "premarsx\n",
      "\n",
      "xmarsex\n",
      "\n",
      "homosex\n",
      "\n",
      "spanking\n",
      "\n",
      "fear\n",
      "\n",
      "owngun\n",
      "\n",
      "pistol\n",
      "\n",
      "hunt\n",
      "\n",
      "phone\n",
      "\n",
      "memchurh\n",
      "\n",
      "realinc\n",
      "\n",
      "cohort\n",
      "\n",
      "marcohrt\n",
      "\n",
      "ballot\n",
      "\n",
      "wtssall\n",
      "\n",
      "adults\n",
      "\n",
      "compuse\n",
      "\n",
      "databank\n",
      "\n",
      "wtssnr\n",
      "\n"
     ]
    }
   ],
   "source": [
    "# Solution goes here\n",
    "for col in gss.columns:\n",
    "    print(col + '\\n')"
   ]
  },
  {
   "cell_type": "markdown",
   "metadata": {},
   "source": [
    "## Save the cleaned data\n",
    "\n",
    "Now that we have the data in good shape, we'll save it in a binary format (HDF5), which will make it faster to load later.\n",
    "\n",
    "Also, we have to do some resampling to make the results representative.  We'll talk about this in class."
   ]
  },
  {
   "cell_type": "code",
   "execution_count": 112,
   "metadata": {},
   "outputs": [],
   "source": [
    "np.random.seed(19)\n",
    "sample = utils.resample_by_year(gss, 'wtssall')"
   ]
  },
  {
   "cell_type": "markdown",
   "metadata": {},
   "source": [
    "Save the file."
   ]
  },
  {
   "cell_type": "code",
   "execution_count": 113,
   "metadata": {},
   "outputs": [],
   "source": [
    "!rm gss.hdf5\n",
    "sample.to_hdf('gss.hdf5', 'gss')"
   ]
  },
  {
   "cell_type": "markdown",
   "metadata": {},
   "source": [
    "Load it and see how fast it is!"
   ]
  },
  {
   "cell_type": "code",
   "execution_count": 114,
   "metadata": {},
   "outputs": [
    {
     "name": "stdout",
     "output_type": "stream",
     "text": [
      "CPU times: user 8.62 ms, sys: 20.5 ms, total: 29.1 ms\n",
      "Wall time: 27.6 ms\n"
     ]
    },
    {
     "data": {
      "text/plain": [
       "(62466, 101)"
      ]
     },
     "execution_count": 114,
     "metadata": {},
     "output_type": "execute_result"
    }
   ],
   "source": [
    "%time gss = pd.read_hdf('gss.hdf5', 'gss')\n",
    "gss.shape"
   ]
  },
  {
   "cell_type": "markdown",
   "metadata": {},
   "source": []
  },
  {
   "cell_type": "code",
   "execution_count": null,
   "metadata": {},
   "outputs": [],
   "source": []
  }
 ],
 "metadata": {
  "kernelspec": {
   "display_name": "Python 3",
   "language": "python",
   "name": "python3"
  },
  "language_info": {
   "codemirror_mode": {
    "name": "ipython",
    "version": 3
   },
   "file_extension": ".py",
   "mimetype": "text/x-python",
   "name": "python",
   "nbconvert_exporter": "python",
   "pygments_lexer": "ipython3",
   "version": "3.6.6"
  }
 },
 "nbformat": 4,
 "nbformat_minor": 1
}
